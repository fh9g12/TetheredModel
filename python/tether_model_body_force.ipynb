{
 "cells": [
  {
   "cell_type": "code",
   "execution_count": 1,
   "metadata": {},
   "outputs": [],
   "source": [
    "import moyra as ma\n",
    "import moyra.elements as ele\n",
    "import moyra.forces as ef\n",
    "import sympy as sym\n",
    "import sympy.physics.mechanics as me\n",
    "import warnings\n",
    "import matplotlib.cbook\n",
    "import numpy as np\n",
    "\n",
    "warnings.filterwarnings(\"ignore\",category=matplotlib.cbook.mplDeprecation)\n",
    "me.mechanics_printing()"
   ]
  },
  {
   "cell_type": "markdown",
   "metadata": {},
   "source": [
    "#### Create Symbols"
   ]
  },
  {
   "cell_type": "code",
   "execution_count": 10,
   "metadata": {},
   "outputs": [],
   "source": [
    "DoFs = 2          # total degrees of freedom\n",
    "main_panels = 10  # main wing panels\n",
    "htp_panels = 4    # horizontal tailplane panels\n",
    "\n",
    "p = ma.DynamicModelParameters(DoFs)\n",
    "p.L_ot = ma.ModelSymbol(string = 'L_ot')\n",
    "p.L_tc = ma.ModelSymbol(string = 'L_tc')\n",
    "p.L_tw = ma.ModelSymbol(string = 'L_tw')\n",
    "p.L_te = ma.ModelSymbol(string = 'L_te')\n",
    "\n",
    "p.m = ma.ModelSymbol(string = 'm')\n",
    "p.I_xx = ma.ModelSymbol(string = 'I_xx')\n",
    "p.I_yy = ma.ModelSymbol(string = 'I_yy')\n",
    "p.I_zz = ma.ModelSymbol(string = 'I_zz')\n",
    "\n",
    "p.y_i = sym.Symbol('y_i') # spanwise location\n",
    "\n",
    "## Body Forces\n",
    "p.F_x = ma.ModelSymbol(string='F_x')\n",
    "p.F_y = ma.ModelSymbol(string='F_y')\n",
    "p.F_z = ma.ModelSymbol(string='F_z')\n",
    "p.M_x = ma.ModelSymbol(string='M_x')\n",
    "p.M_y = ma.ModelSymbol(string='M_y')\n",
    "p.M_z = ma.ModelSymbol(string='M_z')\n",
    "\n",
    "# Attitude Parmas\n",
    "p.g  = ma.ModelSymbol(value = 9.81,string = 'g')                     # gravity"
   ]
  },
  {
   "cell_type": "markdown",
   "metadata": {},
   "source": [
    "#### Create Coordinate Systems"
   ]
  },
  {
   "cell_type": "code",
   "execution_count": 11,
   "metadata": {},
   "outputs": [],
   "source": [
    "tether_frame = ma.HomogenousTransform().R_z(p.q[0]).R_x(p.q[1]).Translate(0,0,-p.L_ot)\n",
    "\n",
    "#Generate Mass Matrices\n",
    "M = ele.MassMatrix(p.m, I_xx = p.I_xx, I_yy=p.I_yy, I_zz=p.I_zz)\n",
    "\n",
    "# Generate Rigid Elements\n",
    "aircraft_mass = ele.RigidElement(tether_frame.Translate(p.L_tc,0,0),M,gravityPotential=True)\n",
    "\n",
    "# Aircraft Body Forces\n",
    "aircraft_forces = ef.BodyForce(p,tether_frame,p.F_x,p.F_y,p.F_z,p.M_x,p.M_y,p.M_z)"
   ]
  },
  {
   "cell_type": "code",
   "execution_count": 12,
   "metadata": {},
   "outputs": [],
   "source": [
    "sm = ma.SymbolicModel.FromElementsAndForces(p,[aircraft_mass],ExtForces=aircraft_forces)"
   ]
  },
  {
   "cell_type": "code",
   "execution_count": 13,
   "metadata": {},
   "outputs": [
    {
     "output_type": "execute_result",
     "data": {
      "text/plain": [
       "⎡        2               2                 2      2           2               \n",
       "⎢I_yy⋅sin (q₁) - I_zz⋅sin (q₁) + I_zz + Lₒₜ ⋅m⋅sin (q₁) + L_tc ⋅m  Lₒₜ⋅L_tc⋅m⋅\n",
       "⎢                                                                             \n",
       "⎢                                                                             \n",
       "⎣                       Lₒₜ⋅L_tc⋅m⋅cos(q₁)                            Iₓₓ + Lₒ\n",
       "\n",
       "       ⎤\n",
       "cos(q₁)⎥\n",
       "       ⎥\n",
       " 2     ⎥\n",
       "ₜ ⋅m   ⎦"
      ],
      "text/latex": "$\\displaystyle \\left[\\begin{matrix}I_{yy} \\sin^{2}{\\left(q_{1} \\right)} - I_{zz} \\sin^{2}{\\left(q_{1} \\right)} + I_{zz} + L_{ot}^{2} m \\sin^{2}{\\left(q_{1} \\right)} + L_{tc}^{2} m & L_{ot} L_{tc} m \\cos{\\left(q_{1} \\right)}\\\\L_{ot} L_{tc} m \\cos{\\left(q_{1} \\right)} & I_{xx} + L_{ot}^{2} m\\end{matrix}\\right]$"
     },
     "metadata": {},
     "execution_count": 13
    }
   ],
   "source": [
    "sm.M"
   ]
  },
  {
   "cell_type": "code",
   "execution_count": 14,
   "metadata": {},
   "outputs": [
    {
     "output_type": "execute_result",
     "data": {
      "text/plain": [
       "⎡⎛                                             2                             ⎞\n",
       "⎢⎝2⋅I_yy⋅cos(q₁)⋅q₀̇ - 2⋅I_zz⋅cos(q₁)⋅q₀̇ + 2⋅Lₒₜ ⋅m⋅cos(q₁)⋅q₀̇ - Lₒₜ⋅L_tc⋅m⋅\n",
       "⎢                                                                             \n",
       "⎢     ⎛                 2                  2      2             2          ⎞  \n",
       "⎣     ⎝- I_yy⋅cos(q₁)⋅q₀̇  + I_zz⋅cos(q₁)⋅q₀̇  - Lₒₜ ⋅m⋅cos(q₁)⋅q₀̇  + Lₒₜ⋅g⋅m\n",
       "\n",
       "           ⎤\n",
       "q₁̇⎠⋅sin(q₁)⋅q₁̇⎥\n",
       "           ⎥\n",
       "           ⎥\n",
       "⎠⋅sin(q₁)     ⎦"
      ],
      "text/latex": "$\\displaystyle \\left[\\begin{matrix}\\left(2 I_{yy} \\cos{\\left(q_{1} \\right)} \\dot{q}_{0} - 2 I_{zz} \\cos{\\left(q_{1} \\right)} \\dot{q}_{0} + 2 L_{ot}^{2} m \\cos{\\left(q_{1} \\right)} \\dot{q}_{0} - L_{ot} L_{tc} m \\dot{q}_{1}\\right) \\sin{\\left(q_{1} \\right)} \\dot{q}_{1}\\\\\\left(- I_{yy} \\cos{\\left(q_{1} \\right)} \\dot{q}_{0}^{2} + I_{zz} \\cos{\\left(q_{1} \\right)} \\dot{q}_{0}^{2} - L_{ot}^{2} m \\cos{\\left(q_{1} \\right)} \\dot{q}_{0}^{2} + L_{ot} g m\\right) \\sin{\\left(q_{1} \\right)}\\end{matrix}\\right]$"
     },
     "metadata": {},
     "execution_count": 14
    }
   ],
   "source": [
    "sym.simplify(sm.f)"
   ]
  },
  {
   "cell_type": "code",
   "execution_count": 15,
   "metadata": {},
   "outputs": [
    {
     "output_type": "execute_result",
     "data": {
      "text/plain": [
       "⎡-Fₓ⋅Lₒₜ⋅sin(q₁) + M_y⋅sin(q₁) + M_z⋅cos(q₁)⎤\n",
       "⎢                                           ⎥\n",
       "⎣               F_y⋅Lₒₜ + Mₓ                ⎦"
      ],
      "text/latex": "$\\displaystyle \\left[\\begin{matrix}- F_{x} L_{ot} \\sin{\\left(q_{1} \\right)} + M_{y} \\sin{\\left(q_{1} \\right)} + M_{z} \\cos{\\left(q_{1} \\right)}\\\\F_{y} L_{ot} + M_{x}\\end{matrix}\\right]$"
     },
     "metadata": {},
     "execution_count": 15
    }
   ],
   "source": [
    "sm.ExtForces.Q()"
   ]
  },
  {
   "cell_type": "code",
   "execution_count": 18,
   "metadata": {},
   "outputs": [],
   "source": [
    "sm.to_matlab_file(p,'')"
   ]
  },
  {
   "cell_type": "code",
   "execution_count": 17,
   "metadata": {},
   "outputs": [],
   "source": [
    "nm = ma.NumericModel.from_SymbolicModel(p,sm)"
   ]
  },
  {
   "cell_type": "code",
   "execution_count": null,
   "metadata": {},
   "outputs": [],
   "source": []
  }
 ],
 "metadata": {
  "kernelspec": {
   "name": "python377jvsc74a57bd0b82620ad2a452c4c896d1e56da7510b7000ae9557b85812401bb2a5890485f01",
   "display_name": "Python 3.7.7 64-bit ('venv')"
  },
  "language_info": {
   "codemirror_mode": {
    "name": "ipython",
    "version": 3
   },
   "file_extension": ".py",
   "mimetype": "text/x-python",
   "name": "python",
   "nbconvert_exporter": "python",
   "pygments_lexer": "ipython3",
   "version": "3.7.7"
  },
  "metadata": {
   "interpreter": {
    "hash": "b82620ad2a452c4c896d1e56da7510b7000ae9557b85812401bb2a5890485f01"
   }
  }
 },
 "nbformat": 4,
 "nbformat_minor": 4
}